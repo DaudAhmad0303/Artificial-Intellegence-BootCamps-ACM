{
 "cells": [
  {
   "cell_type": "markdown",
   "metadata": {},
   "source": [
    "# Python BootCamp by ACM"
   ]
  },
  {
   "cell_type": "markdown",
   "metadata": {},
   "source": [
    "# Day 1"
   ]
  },
  {
   "cell_type": "markdown",
   "metadata": {},
   "source": [
    "### Topics:\n",
    "###### 1:printing 2:Commenting 3:Debugging 4:String Manipulation 5:Variables:"
   ]
  },
  {
   "cell_type": "markdown",
   "metadata": {},
   "source": [
    "#### 1st (printing)"
   ]
  },
  {
   "cell_type": "code",
   "execution_count": 3,
   "metadata": {},
   "outputs": [
    {
     "name": "stdout",
     "output_type": "stream",
     "text": [
      "Hello World\n"
     ]
    }
   ],
   "source": [
    "print(\"Hello World\")"
   ]
  },
  {
   "cell_type": "code",
   "execution_count": null,
   "metadata": {},
   "outputs": [],
   "source": [
    "print('Hello world')"
   ]
  },
  {
   "cell_type": "markdown",
   "metadata": {},
   "source": [
    "#### 2nd(Commenting)"
   ]
  },
  {
   "cell_type": "code",
   "execution_count": 4,
   "metadata": {},
   "outputs": [
    {
     "name": "stdout",
     "output_type": "stream",
     "text": [
      "Hello World\n"
     ]
    }
   ],
   "source": [
    "#print(\"Hello World\")\n",
    "#saad fareed \n",
    "'''\n",
    "print(\"Hello World\")\n",
    "Python BootCamp\n",
    "'''"
   ]
  },
  {
   "cell_type": "markdown",
   "metadata": {},
   "source": [
    "### Task1 of the Day: print the folowing Lines:\n",
    "\n",
    "1:Teacher said,\"Hello Wold\"\n",
    "\n",
    "2:print('I am Sad now')"
   ]
  },
  {
   "cell_type": "markdown",
   "metadata": {},
   "source": [
    "### Solution:"
   ]
  },
  {
   "cell_type": "code",
   "execution_count": 6,
   "metadata": {},
   "outputs": [
    {
     "name": "stdout",
     "output_type": "stream",
     "text": [
      "Teacher said,\"Hello Wold\"\n"
     ]
    }
   ],
   "source": [
    "# Answer of 1st \n",
    "\n",
    "print('Teacher said,\"Hello Wold\"')"
   ]
  },
  {
   "cell_type": "code",
   "execution_count": 5,
   "metadata": {},
   "outputs": [
    {
     "name": "stdout",
     "output_type": "stream",
     "text": [
      "print('I am Sad now')\n"
     ]
    }
   ],
   "source": [
    "# Answer of 2nd \n",
    "print(\"print('I am Sad now')\")"
   ]
  },
  {
   "cell_type": "code",
   "execution_count": 6,
   "metadata": {},
   "outputs": [
    {
     "name": "stdout",
     "output_type": "stream",
     "text": [
      "Teacher said, \"This is Python's Second Session.\"\n"
     ]
    }
   ],
   "source": [
    "print('''Teacher said, \"This is Python's Second Session.\"''')"
   ]
  },
  {
   "cell_type": "markdown",
   "metadata": {},
   "source": [
    "#### 4th Strings Manipulation"
   ]
  },
  {
   "cell_type": "code",
   "execution_count": 7,
   "metadata": {},
   "outputs": [
    {
     "name": "stdout",
     "output_type": "stream",
     "text": [
      "saadfareed\n"
     ]
    }
   ],
   "source": [
    "print(\"saad\" + \"fareed\")"
   ]
  },
  {
   "cell_type": "code",
   "execution_count": 8,
   "metadata": {},
   "outputs": [
    {
     "name": "stdout",
     "output_type": "stream",
     "text": [
      "saad is my name i am a student of Computer Science \n"
     ]
    }
   ],
   "source": [
    "print(\"saad is my name\" +\" \"+\"i am a student of Computer Science \") # string Concatenation"
   ]
  },
  {
   "cell_type": "markdown",
   "metadata": {},
   "source": [
    "### Task2 of the Day: Debug the folowing Lines:\n",
    "prin('hello world')\n",
    "\n",
    "prnt(\"hello world')\n",
    "\n",
    "print(\"hello world''"
   ]
  },
  {
   "cell_type": "code",
   "execution_count": 11,
   "metadata": {},
   "outputs": [
    {
     "name": "stdout",
     "output_type": "stream",
     "text": [
      "hello world\n"
     ]
    }
   ],
   "source": [
    "print(\"hello world\")"
   ]
  },
  {
   "cell_type": "markdown",
   "metadata": {},
   "source": [
    "#### Input from User"
   ]
  },
  {
   "cell_type": "code",
   "execution_count": 17,
   "metadata": {},
   "outputs": [
    {
     "name": "stdout",
     "output_type": "stream",
     "text": [
      "Enter any stringDaud\n",
      "Daud\n"
     ]
    }
   ],
   "source": [
    "a = input(\"Enter any string\")\n",
    "print(a)"
   ]
  },
  {
   "cell_type": "code",
   "execution_count": null,
   "metadata": {},
   "outputs": [],
   "source": [
    "print(\"Hello \"+ input(\"What is Your Name:\"))"
   ]
  },
  {
   "cell_type": "markdown",
   "metadata": {},
   "source": [
    "#### only Integer Input"
   ]
  },
  {
   "cell_type": "code",
   "execution_count": 20,
   "metadata": {},
   "outputs": [
    {
     "name": "stdout",
     "output_type": "stream",
     "text": [
      "Enter any Integer10\n",
      "15\n"
     ]
    }
   ],
   "source": [
    "print(5 + int(input(\"Enter any Integer\")))"
   ]
  },
  {
   "cell_type": "markdown",
   "metadata": {},
   "source": [
    "#### Basic Arthematic Operation"
   ]
  },
  {
   "cell_type": "code",
   "execution_count": 16,
   "metadata": {},
   "outputs": [
    {
     "name": "stdout",
     "output_type": "stream",
     "text": [
      "15\n",
      "-5\n",
      "50\n",
      "3.3333333333333335\n",
      "3\n",
      "5\n",
      "16\n"
     ]
    }
   ],
   "source": [
    "print(5+10) #Add\n",
    "print(5-10) #Sub\n",
    "print(5*10) #Mul\n",
    "print(10/3) #Div\n",
    "print(10//3) #Div int\n",
    "print(5%10) #Rem\n",
    "print(2**4) #pow "
   ]
  },
  {
   "cell_type": "markdown",
   "metadata": {},
   "source": [
    "### Task3 of the Day: Calculate Age of Person By taking YOB as input from user"
   ]
  },
  {
   "cell_type": "code",
   "execution_count": 21,
   "metadata": {},
   "outputs": [
    {
     "name": "stdout",
     "output_type": "stream",
     "text": [
      "Enter YOB: 20\n",
      "2002\n"
     ]
    }
   ],
   "source": [
    "print(2022 - int(input(\"Enter YOB: \")))"
   ]
  },
  {
   "cell_type": "markdown",
   "metadata": {},
   "source": [
    "#### Calculate Length of String "
   ]
  },
  {
   "cell_type": "code",
   "execution_count": 22,
   "metadata": {},
   "outputs": [
    {
     "name": "stdout",
     "output_type": "stream",
     "text": [
      "Enter a String: Daud Ahmad\n",
      "10\n"
     ]
    }
   ],
   "source": [
    "print(len(input(\"Enter a String: \")))"
   ]
  },
  {
   "cell_type": "markdown",
   "metadata": {},
   "source": [
    "#### Variables"
   ]
  },
  {
   "cell_type": "code",
   "execution_count": 25,
   "metadata": {},
   "outputs": [
    {
     "name": "stdout",
     "output_type": "stream",
     "text": [
      "5\n",
      "saad\n",
      "Hello World\n",
      "Python Programming\n"
     ]
    }
   ],
   "source": [
    "num = 5\n",
    "print(num)\n",
    "name = 'saad' #no need to declare what type of data is it\n",
    "print(name)\n",
    "print('Hello World\\nPython Programming')"
   ]
  },
  {
   "cell_type": "markdown",
   "metadata": {},
   "source": [
    "## Project of the day: write a program for person details.\n",
    "#### sample output:\n",
    "##### (Yourname) is my name \n",
    "##### I am (Yourage) years of age\n",
    "##### having hobby of doing (Hobbies)"
   ]
  },
  {
   "cell_type": "markdown",
   "metadata": {},
   "source": [
    "#### Solution"
   ]
  },
  {
   "cell_type": "code",
   "execution_count": 23,
   "metadata": {},
   "outputs": [
    {
     "name": "stdout",
     "output_type": "stream",
     "text": [
      "Enter Your name:\n",
      "Daud Ahmad\n",
      "Enter Your Age:\n",
      "20\n",
      "Enter Your Hobbies:\n",
      "Gaming \n",
      "Daud Ahmad is my name\n",
      "I am20 years of age\n",
      "having hobby of doing Gaming \n",
      "\n"
     ]
    }
   ],
   "source": [
    "name=input(\"Enter Your name:\\n\")\n",
    "Age=int(input(\"Enter Your Age:\\n\"))\n",
    "Hobbies=input(\"Enter Your Hobbies:\\n\")\n",
    "print(name+\" is my name\\n\" \"I am\" + str(Age) + \" years of age\\n\" + \"having hobby of doing \"+ Hobbies+\"\\n\")"
   ]
  },
  {
   "cell_type": "markdown",
   "metadata": {},
   "source": [
    "## DAY 2"
   ]
  },
  {
   "cell_type": "markdown",
   "metadata": {},
   "source": [
    "### Topics:\n",
    "\n",
    "**1:Data Types \n",
    "2:Numbers\n",
    "3:Operations\n",
    "4:Types conversion\n",
    "5:f-strings**"
   ]
  },
  {
   "cell_type": "code",
   "execution_count": 26,
   "metadata": {},
   "outputs": [
    {
     "name": "stdout",
     "output_type": "stream",
     "text": [
      "<class 'str'>\n"
     ]
    }
   ],
   "source": [
    "print (type(\"hello \"+\"world\"))\n"
   ]
  },
  {
   "cell_type": "code",
   "execution_count": 28,
   "metadata": {},
   "outputs": [
    {
     "name": "stdout",
     "output_type": "stream",
     "text": [
      "<class 'int'>\n",
      "<class 'str'>\n"
     ]
    }
   ],
   "source": [
    "print (type(123+234))\n",
    "print (type(\"123\"+\"234\"))"
   ]
  },
  {
   "cell_type": "code",
   "execution_count": 31,
   "metadata": {},
   "outputs": [
    {
     "name": "stdout",
     "output_type": "stream",
     "text": [
      "<class 'float'>\n",
      "3.139\n"
     ]
    }
   ],
   "source": [
    "#Float\n",
    "print(type(3.141))\n",
    "print(3.1390)"
   ]
  },
  {
   "cell_type": "code",
   "execution_count": 34,
   "metadata": {},
   "outputs": [
    {
     "name": "stdout",
     "output_type": "stream",
     "text": [
      "<class 'str'>\n",
      "<class 'complex'>\n"
     ]
    }
   ],
   "source": [
    "a = 'Hello'\n",
    "print(type(a))\n",
    "var = 5 - 4j\n",
    "print(type(var))"
   ]
  },
  {
   "cell_type": "code",
   "execution_count": 35,
   "metadata": {},
   "outputs": [
    {
     "name": "stdout",
     "output_type": "stream",
     "text": [
      "<class 'bool'>\n",
      "<class 'bool'>\n"
     ]
    }
   ],
   "source": [
    "print(type(True))\n",
    "print(type(False))"
   ]
  },
  {
   "cell_type": "code",
   "execution_count": 41,
   "metadata": {},
   "outputs": [
    {
     "name": "stdout",
     "output_type": "stream",
     "text": [
      "saad your is age 21 is it?\n",
      "saad your age is 21 is it?\n"
     ]
    }
   ],
   "source": [
    "# type Errors \n",
    "# print(\"saad your is age\" +21+ \"is it?\")\n",
    "print(\"saad your is age\" ,21, \"is it?\")\n",
    "print(\"saad your age is \"+str(21)+\" is it?\")"
   ]
  },
  {
   "cell_type": "code",
   "execution_count": null,
   "metadata": {},
   "outputs": [],
   "source": [
    "#shortcut key for comments\n",
    "ctrl + /"
   ]
  },
  {
   "cell_type": "code",
   "execution_count": null,
   "metadata": {},
   "outputs": [],
   "source": [
    "#Priority\n",
    "#PEMDAS\n",
    "#parentheses \n",
    "#Exponents\n",
    "#Multi\n",
    "#Div\n",
    "#Add\n",
    "#sub\n",
    "\n",
    "#.......................\n",
    "\n",
    "#() \n",
    "#** \n",
    "#*\n",
    "#/ \n",
    "#+\n",
    "#-\n"
   ]
  },
  {
   "cell_type": "code",
   "execution_count": 42,
   "metadata": {},
   "outputs": [
    {
     "name": "stdout",
     "output_type": "stream",
     "text": [
      "7\n"
     ]
    }
   ],
   "source": [
    "print(3*3+int(3/3)-3) #9+1-3 #7\n",
    "# Output 7"
   ]
  },
  {
   "cell_type": "code",
   "execution_count": 50,
   "metadata": {},
   "outputs": [
    {
     "name": "stdout",
     "output_type": "stream",
     "text": [
      "3.68\n"
     ]
    }
   ],
   "source": [
    "# print(round(10/3))\n",
    "#roundoff\n",
    "print((round(3.67866,2)))"
   ]
  },
  {
   "cell_type": "code",
   "execution_count": 51,
   "metadata": {},
   "outputs": [
    {
     "name": "stdout",
     "output_type": "stream",
     "text": [
      "0\n",
      "1\n",
      "2\n"
     ]
    }
   ],
   "source": [
    "score=0\n",
    "print(score)\n",
    "score=score+1\n",
    "print(score)\n",
    "score+=1\n",
    "print(score)"
   ]
  },
  {
   "cell_type": "code",
   "execution_count": 63,
   "metadata": {},
   "outputs": [
    {
     "name": "stdout",
     "output_type": "stream",
     "text": [
      "Your score is 1,100,000 with height 1.8, HM is done or notTrue \n"
     ]
    }
   ],
   "source": [
    "score=1100000\n",
    "height=1.8\n",
    "HM=True\n",
    "#f-string\n",
    "#string formatting mechanism\n",
    "# print(\"Your score is \" + str(score)+ \"with height \" + str(height) + \" HM is done or not \"+ str(HM))\n",
    "print(f\"Your score is {score:,} with height {height}, HM is done or not{HM} \")"
   ]
  },
  {
   "cell_type": "markdown",
   "metadata": {},
   "source": [
    "## Project: Make a Calculator That takes input from users and apply arthematic operation"
   ]
  },
  {
   "cell_type": "markdown",
   "metadata": {},
   "source": [
    "Following operations will be performing by your program:\n",
    "- Plus operator `+`\n",
    "- Subtract operator `-`\n",
    "- Multiplication operator `*`\n",
    "- Divide operator `/`\n",
    "- Divide and return whole number `//`\n",
    "- Power operator `**`\n",
    "- Modulus operator `%`"
   ]
  },
  {
   "cell_type": "code",
   "execution_count": 64,
   "metadata": {},
   "outputs": [],
   "source": [
    "# your Solution"
   ]
  }
 ],
 "metadata": {
  "kernelspec": {
   "display_name": "Python 3",
   "language": "python",
   "name": "python3"
  },
  "language_info": {
   "codemirror_mode": {
    "name": "ipython",
    "version": 3
   },
   "file_extension": ".py",
   "mimetype": "text/x-python",
   "name": "python",
   "nbconvert_exporter": "python",
   "pygments_lexer": "ipython3",
   "version": "3.8.5"
  }
 },
 "nbformat": 4,
 "nbformat_minor": 4
}
